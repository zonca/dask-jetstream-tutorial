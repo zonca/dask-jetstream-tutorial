{
 "cells": [
  {
   "cell_type": "markdown",
   "id": "ab072a3e",
   "metadata": {},
   "source": [
    "<img src=\"https://raw.githubusercontent.com/dask/dask/main/docs/source/images/dask_horizontal.svg\"\n",
    "     width=\"60%\"\n",
    "     alt=\"Dask logo\\\" />\n",
    "\n",
    "# Dask Delayed\n",
    "\n",
    "Dask DataFrames, Dask Arrays and Dask-ML are parallel versions of PyData libraries you likely know and love. But sometimes we encounter problems that could benefit from parallel computing but that do no fit neatly into a DataFrame, Array or Machine-Learning workflow.\n",
    "\n",
    "Dask delayed is an interface that can be used to parallelize existing Python code and custom algorithms. \n",
    "\n",
    "A first step to determine if we can use `dask.delayed` is to identify if there is some level of parallelism that we haven't exploit and hopefully `dask.delayed` will take care of it. \n",
    "\n",
    "The following two functions will perform simple computations, where we use the `sleep` to simulate work. "
   ]
  },
  {
   "cell_type": "code",
   "execution_count": null,
   "id": "ddfb8053",
   "metadata": {},
   "outputs": [],
   "source": [
    "from time import sleep\n",
    "\n",
    "def inc(x):\n",
    "    \"\"\"Increments x by one\"\"\"\n",
    "    sleep(1)\n",
    "    return x + 1\n",
    "\n",
    "def add(x, y):\n",
    "    \"\"\"Adds x and y\"\"\"\n",
    "    sleep(1)\n",
    "    return x + y"
   ]
  },
  {
   "cell_type": "markdown",
   "id": "54956d17",
   "metadata": {},
   "source": [
    "Let's do some operations and time these functions using the `%%time` magic at the beginning of the cell. "
   ]
  },
  {
   "cell_type": "code",
   "execution_count": null,
   "id": "45bb4aa1",
   "metadata": {},
   "outputs": [],
   "source": [
    "%%time\n",
    "\n",
    "x = inc(1)\n",
    "y = inc(2)\n",
    "z = add(x, y)"
   ]
  },
  {
   "cell_type": "markdown",
   "id": "f7c10bb2",
   "metadata": {},
   "source": [
    "The execution of the cell above took three seconds, this happens because we are calling  each function sequentially. The computations above can be represented by the following graph:\n",
    "\n",
    "<img src=\"https://raw.githubusercontent.com/dask/dask/main/docs/source/images/inc-add.svg\" \n",
    "     width=\"55%\"\n",
    "     alt=\"Dask graph\\\" />\n",
    "\n",
    "From looking at the task graph, the opportunity for parallelization is more evident since the the two calls to the `inc` function are completely independent of one-another. Let's explore how `dask.delayed` can help us with this.\n",
    "\n",
    "\n",
    "### `dask.delayed` \n",
    "\n",
    "We can use `dask.delayed` to transform the `inc` and `add` functions into \"lazy\" versions of themselves. "
   ]
  },
  {
   "cell_type": "code",
   "execution_count": null,
   "id": "acfae103",
   "metadata": {},
   "outputs": [],
   "source": [
    "from dask import delayed"
   ]
  },
  {
   "cell_type": "code",
   "execution_count": null,
   "id": "99e3dbf8",
   "metadata": {},
   "outputs": [],
   "source": [
    "%%time\n",
    "\n",
    "# x = inc(1)\n",
    "# y = inc(2)\n",
    "# z = add(x, y)\n",
    "\n",
    "a = delayed(inc)(1)\n",
    "b = delayed(inc)(2)\n",
    "c = delayed(add)(a, b)"
   ]
  },
  {
   "cell_type": "markdown",
   "id": "f12638d6",
   "metadata": {},
   "source": [
    "When we call the `delayed` version of the functions by passing the arguments, the original function is isn't actually called yet, that's why the execution finishes very quickly. When we called the `delayed` version of the functions, a `delayed` object is made, which keeps track of the functions to call and what arguments to pass to it. \n",
    "\n",
    "If we inspect `c`, we will notice that it instead of having the value five, we have what is called a `delayed` object."
   ]
  },
  {
   "cell_type": "code",
   "execution_count": null,
   "id": "d885f706",
   "metadata": {},
   "outputs": [],
   "source": [
    "print(c)"
   ]
  },
  {
   "cell_type": "markdown",
   "id": "37007eaf",
   "metadata": {},
   "source": [
    "We can visualize this objects by doing:"
   ]
  },
  {
   "cell_type": "code",
   "execution_count": null,
   "id": "063f5c18",
   "metadata": {},
   "outputs": [],
   "source": [
    "c.visualize(format=\"svg\")"
   ]
  },
  {
   "cell_type": "markdown",
   "id": "4c2386a1",
   "metadata": {},
   "source": [
    "Up to this point the object `c` holds all the information we need to compute the result. We can evaluate the result with `.compute()`."
   ]
  },
  {
   "cell_type": "code",
   "execution_count": null,
   "id": "41558b67",
   "metadata": {},
   "outputs": [],
   "source": [
    "%%time\n",
    "\n",
    "c.compute()"
   ]
  },
  {
   "cell_type": "markdown",
   "id": "ed58cb96",
   "metadata": {},
   "source": [
    "Notice that now the computation took 2s instead of 3s, this is because the two `inc` computations are run in parallel. "
   ]
  },
  {
   "cell_type": "markdown",
   "id": "556904bb",
   "metadata": {},
   "source": [
    "## Parallelizing a `for`-loop\n",
    "\n",
    "When we perform the same group of operation multiple times in the form of `for-loop`, there is a chance that we can perform this computations in parallel. For example, the following serial code, can be parallelized using `delayed`: "
   ]
  },
  {
   "cell_type": "code",
   "execution_count": null,
   "id": "cad984eb",
   "metadata": {},
   "outputs": [],
   "source": [
    "data = list(range(8))"
   ]
  },
  {
   "cell_type": "markdown",
   "id": "594b7744",
   "metadata": {},
   "source": [
    "#### Sequential code"
   ]
  },
  {
   "cell_type": "code",
   "execution_count": null,
   "id": "44fa16ea",
   "metadata": {},
   "outputs": [],
   "source": [
    "%%time\n",
    "results = []\n",
    "for i in data:\n",
    "    y = inc(i)         # do something here\n",
    "    results.append(y)\n",
    "    \n",
    "total = sum(results)  # do something here"
   ]
  },
  {
   "cell_type": "code",
   "execution_count": null,
   "id": "ed5cceae",
   "metadata": {},
   "outputs": [],
   "source": [
    "print(f'{total = }')"
   ]
  },
  {
   "cell_type": "markdown",
   "id": "8a68dff0",
   "metadata": {},
   "source": [
    "### Exercise 1 \n",
    "\n",
    "Notice that both the `inc` and `sum` operations can be done in parallel, use `delayed` to parallelize the sequential code above, compute the `total` and time it using `%%time` "
   ]
  },
  {
   "cell_type": "markdown",
   "id": "836ccbe1",
   "metadata": {},
   "source": [
    "Uncomment and run the cell below to see the solution."
   ]
  },
  {
   "cell_type": "code",
   "execution_count": null,
   "id": "47f2ee0b",
   "metadata": {
    "tags": []
   },
   "outputs": [],
   "source": [
    "results = []\n",
    "for i in data:\n",
    "    y = delayed(inc)(i)    \n",
    "    results.append(y)\n",
    "    \n",
    "total = delayed(sum)(results)"
   ]
  },
  {
   "cell_type": "markdown",
   "id": "7394312f",
   "metadata": {},
   "source": [
    "In the code above, the `sum` step is not run in parallel, but it depends on each of the `inc` steps, that's why it needs the `delayed` decorator too. The `inc`steps will be parallelized, then aggregated with the `sum` step.\n",
    "\n",
    "Notice that we can apply delayed to built-in functions, as we did in the case of `sum` in the code above. "
   ]
  },
  {
   "cell_type": "code",
   "execution_count": null,
   "id": "9ab8ec9d",
   "metadata": {},
   "outputs": [],
   "source": [
    "total"
   ]
  },
  {
   "cell_type": "code",
   "execution_count": null,
   "id": "85ccafbf",
   "metadata": {},
   "outputs": [],
   "source": [
    "total.visualize(format=\"svg\")"
   ]
  },
  {
   "cell_type": "code",
   "execution_count": null,
   "id": "bd495500",
   "metadata": {},
   "outputs": [],
   "source": [
    "%%time\n",
    "total.compute()"
   ]
  },
  {
   "cell_type": "markdown",
   "id": "72ab18d7",
   "metadata": {},
   "source": [
    "###  The `@delayed` syntax \n",
    "\n",
    "The `delayed` decorator can be also used by \"decorating\" with `@delayed` the function you want to parallelize."
   ]
  },
  {
   "cell_type": "code",
   "execution_count": null,
   "id": "1faf2ba1",
   "metadata": {},
   "outputs": [],
   "source": [
    "@delayed                    \n",
    "def double(x):\n",
    "    \"\"\"Decrease x by one\"\"\"\n",
    "    sleep(1)\n",
    "    return 2*x "
   ]
  },
  {
   "cell_type": "markdown",
   "id": "409f9557",
   "metadata": {},
   "source": [
    "Then when we call this new `double` function we obtain a delayed object:"
   ]
  },
  {
   "cell_type": "code",
   "execution_count": null,
   "id": "4501eeda",
   "metadata": {},
   "outputs": [],
   "source": [
    "d = double(4)\n",
    "print(d)"
   ]
  },
  {
   "cell_type": "code",
   "execution_count": null,
   "id": "1a313693",
   "metadata": {},
   "outputs": [],
   "source": [
    "%%time\n",
    "d.compute()"
   ]
  },
  {
   "cell_type": "markdown",
   "id": "24a13213",
   "metadata": {},
   "source": [
    "### Exercise 2\n",
    "\n",
    "Using the `delayed` decorator create the parallel versions of `inc` and `add`\n",
    "\n",
    "```python\n",
    "def inc(x):\n",
    "    \"\"\"Increments x by one\"\"\"\n",
    "    sleep(1)\n",
    "    return x + 1\n",
    "\n",
    "def add(x, y):\n",
    "    \"\"\"Adds x and y\"\"\"\n",
    "    sleep(1)\n",
    "    return x + y\n",
    "```"
   ]
  },
  {
   "cell_type": "code",
   "execution_count": null,
   "id": "7d2847d2",
   "metadata": {
    "jupyter": {
     "source_hidden": true
    },
    "tags": []
   },
   "outputs": [],
   "source": [
    "@delayed\n",
    "def inc(x):\n",
    "    \"\"\"Increments x by one\"\"\"\n",
    "    sleep(1)\n",
    "    return x + 1\n",
    "\n",
    "@delayed\n",
    "def add(x, y):\n",
    "    \"\"\"Adds x and y\"\"\"\n",
    "    sleep(1)\n",
    "    return x + y"
   ]
  },
  {
   "cell_type": "markdown",
   "id": "4a12256b",
   "metadata": {},
   "source": [
    "``Delayed`` objects support several standard Python operations, each of which creates another ``Delayed`` object representing the result:\n",
    "\n",
    "- Arithmetic operators, e.g. `*`, `-`, `+`\n",
    "- Item access and slicing, e.g. `x[0]`, `x[1:3]`\n",
    "- Attribute access, e.g. `x.size`\n",
    "- Method calls, e.g. `x.index(0)`\n",
    "\n",
    "For example you can do:"
   ]
  },
  {
   "cell_type": "code",
   "execution_count": null,
   "id": "e5ed731f",
   "metadata": {},
   "outputs": [],
   "source": [
    "result = (inc(5) * inc(7)) + (inc(3) * inc(2))\n",
    "result.visualize(format=\"svg\")"
   ]
  },
  {
   "cell_type": "code",
   "execution_count": null,
   "id": "cacd838b",
   "metadata": {},
   "outputs": [],
   "source": [
    "%%time\n",
    "result.compute()"
   ]
  },
  {
   "cell_type": "markdown",
   "id": "d1ca4b69",
   "metadata": {},
   "source": [
    "## Another for-loop example "
   ]
  },
  {
   "cell_type": "markdown",
   "id": "58dcb089",
   "metadata": {},
   "source": [
    "Let's say we want to perform some operations like `inc`, `double` and `add` on a list of data, and finally aggregate all the results. We can use our `delayed` decorated functions to perform this computations faster. \n",
    "The serial version of the code below would take approximately 24 seconds, let's see how long does the parallel version takes:"
   ]
  },
  {
   "cell_type": "code",
   "execution_count": null,
   "id": "7b6b24b1",
   "metadata": {},
   "outputs": [],
   "source": [
    "data = list(range(8))\n",
    "\n",
    "output = []\n",
    "for x in data:\n",
    "    a = inc(x)     #parallel version\n",
    "    b = double(x)  #parallel version\n",
    "    c = add(a, b)  #parallel version\n",
    "    output.append(c)\n",
    "\n",
    "total = delayed(sum)(output)\n",
    "total"
   ]
  },
  {
   "cell_type": "markdown",
   "id": "3e12ae2b",
   "metadata": {},
   "source": [
    "Noticed that `inc`, `double` and `add` in the code above are already the parallel versions, since we decorated with `@delayed`"
   ]
  },
  {
   "cell_type": "code",
   "execution_count": null,
   "id": "e0f2d3e5",
   "metadata": {},
   "outputs": [],
   "source": [
    "total.visualize(format=\"svg\")"
   ]
  },
  {
   "cell_type": "markdown",
   "id": "57f38fc4",
   "metadata": {},
   "source": [
    "### Exercise: How long will this task graph take to compute on a machine with 2 cores?"
   ]
  },
  {
   "cell_type": "code",
   "execution_count": null,
   "id": "f80ffe62",
   "metadata": {},
   "outputs": [],
   "source": [
    "%%time\n",
    "total.compute()"
   ]
  },
  {
   "cell_type": "markdown",
   "id": "f2ead99e",
   "metadata": {},
   "source": [
    "## Extra resources\n",
    "\n",
    "For more examples on `dask.delayed` check:\n",
    "- Main Dask tutorial: [Delayed lesson](https://github.com/dask/dask-tutorial/blob/main/01_dask.delayed.ipynb)\n",
    "- More examples on Delayed: [PyData global - Dask tutorial - Delayed](https://github.com/coiled/pydata-global-dask/blob/master/1-delayed.ipynb)\n",
    "- Short screencast on Dask delayed: [How to parallelize Python code with Dask Delayed (3min)](https://www.youtube.com/watch?v=-EUlNJI2QYs)\n",
    "- [Dask Delayed documentation](https://docs.dask.org/en/latest/delayed.html)\n",
    "- [Delayed Best Practices](https://docs.dask.org/en/latest/delayed-best-practices.html)\n"
   ]
  }
 ],
 "metadata": {
  "kernelspec": {
   "display_name": "Python 3 (ipykernel)",
   "language": "python",
   "name": "python3"
  },
  "language_info": {
   "codemirror_mode": {
    "name": "ipython",
    "version": 3
   },
   "file_extension": ".py",
   "mimetype": "text/x-python",
   "name": "python",
   "nbconvert_exporter": "python",
   "pygments_lexer": "ipython3",
   "version": "3.9.2"
  }
 },
 "nbformat": 4,
 "nbformat_minor": 5
}
