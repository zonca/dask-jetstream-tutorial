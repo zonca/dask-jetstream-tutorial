{
 "cells": [
  {
   "cell_type": "code",
   "execution_count": null,
   "id": "4405cb5a-cdc7-4e3c-96c1-a8dc2bf53509",
   "metadata": {},
   "outputs": [],
   "source": [
    "!pip install dask_gateway==2023.9.0"
   ]
  },
  {
   "cell_type": "code",
   "execution_count": null,
   "id": "7d9ef7be-a3f1-4fff-b45b-0bfd77b9498c",
   "metadata": {},
   "outputs": [],
   "source": [
    "from dask_gateway import Gateway\n",
    "import os\n",
    "gateway = Gateway(\n",
    "    \"http://traefik-dask-gateway\",\n",
    "    public_address=\"http://\"+os.environ[\"DASK_GATEWAY_IP\"],\n",
    "    auth=\"jupyterhub\"\n",
    ")"
   ]
  },
  {
   "cell_type": "code",
   "execution_count": null,
   "id": "4fe7ec3e-0169-4c13-b8e7-6d2e483fc74c",
   "metadata": {},
   "outputs": [],
   "source": [
    "gateway.list_clusters()"
   ]
  },
  {
   "cell_type": "code",
   "execution_count": null,
   "id": "14b7d8e9-e7fd-4111-9235-798f1a88a036",
   "metadata": {},
   "outputs": [],
   "source": [
    "def stop_all_clusters():\n",
    "    for c in gateway.list_clusters():\n",
    "        gateway.stop_cluster(c.name)"
   ]
  },
  {
   "cell_type": "code",
   "execution_count": null,
   "id": "cb9d2231-aebc-4067-b45e-c75c936ed171",
   "metadata": {},
   "outputs": [],
   "source": [
    "stop_all_clusters()"
   ]
  },
  {
   "cell_type": "code",
   "execution_count": null,
   "id": "7bd3e53a-19c5-4861-973b-faf276c33588",
   "metadata": {},
   "outputs": [],
   "source": [
    "options = gateway.cluster_options()"
   ]
  },
  {
   "cell_type": "code",
   "execution_count": null,
   "id": "a0cf63ca-5658-45ed-a5c3-b019c99dbfe6",
   "metadata": {},
   "outputs": [],
   "source": [
    "options"
   ]
  },
  {
   "cell_type": "code",
   "execution_count": null,
   "id": "2dd3761d-c46b-476e-bb9d-586242a85420",
   "metadata": {},
   "outputs": [],
   "source": [
    "cluster = gateway.new_cluster(options)"
   ]
  },
  {
   "cell_type": "code",
   "execution_count": null,
   "id": "cb7c5708-4409-4689-b4fb-3b17d62664e7",
   "metadata": {},
   "outputs": [],
   "source": [
    "cluster.scale(2)"
   ]
  },
  {
   "cell_type": "code",
   "execution_count": null,
   "id": "6702f5c2-145e-4fcf-9f45-901034800871",
   "metadata": {},
   "outputs": [],
   "source": [
    "gateway.list_clusters()"
   ]
  },
  {
   "cell_type": "code",
   "execution_count": null,
   "id": "393bc3a8-109e-4986-b730-73b98ee4543e",
   "metadata": {},
   "outputs": [],
   "source": [
    "client = cluster.get_client()"
   ]
  },
  {
   "cell_type": "code",
   "execution_count": null,
   "id": "6fdf0102-3ce1-41aa-9fbf-ccca79167618",
   "metadata": {},
   "outputs": [],
   "source": [
    "client"
   ]
  },
  {
   "cell_type": "code",
   "execution_count": null,
   "id": "2027e94c-08b4-468a-9bdd-1371e4d32fc4",
   "metadata": {},
   "outputs": [],
   "source": [
    "cluster"
   ]
  },
  {
   "cell_type": "code",
   "execution_count": null,
   "id": "bf8eba43-b6b8-4561-9b5b-e78b6aa93823",
   "metadata": {},
   "outputs": [],
   "source": [
    "import dask.bag as db\n",
    "data = list(range(1,9))\n",
    "b = db.from_sequence(data)\n",
    "from time import sleep\n",
    "\n",
    "def slow_half( x):\n",
    "    sleep(1)\n",
    "    return x // 2\n",
    "\n",
    "res = b.map(slow_half)\n",
    "res"
   ]
  },
  {
   "cell_type": "code",
   "execution_count": null,
   "id": "82c55ca6-b48c-4a0d-9beb-ad498d157d0e",
   "metadata": {},
   "outputs": [],
   "source": [
    "%%time\n",
    "res.compute()"
   ]
  },
  {
   "cell_type": "code",
   "execution_count": null,
   "id": "0cbbb26e-fdec-4f92-a8a6-612e92c10511",
   "metadata": {},
   "outputs": [],
   "source": [
    "import dask.array as da\n",
    "a = da.random.normal(size=(10000, 10000), chunks=(500, 500))\n"
   ]
  },
  {
   "cell_type": "code",
   "execution_count": null,
   "id": "327d47f8-4211-4883-9d34-f8865917f47d",
   "metadata": {},
   "outputs": [],
   "source": [
    "%%time\n",
    "\n",
    "a.mean().compute()"
   ]
  },
  {
   "cell_type": "code",
   "execution_count": null,
   "id": "bd8fa8a7-a7f1-479e-986b-e4a774282602",
   "metadata": {},
   "outputs": [],
   "source": [
    "def run_on_worker():\n",
    "    import dask\n",
    "    return dask.__version__"
   ]
  },
  {
   "cell_type": "code",
   "execution_count": null,
   "id": "e492eba8-4206-4f8c-811c-002e2973a2a9",
   "metadata": {},
   "outputs": [],
   "source": [
    "client.run(run_on_worker)"
   ]
  },
  {
   "cell_type": "code",
   "execution_count": null,
   "id": "1620ebca-59ee-4f9c-8695-e7f36c2a3bea",
   "metadata": {},
   "outputs": [],
   "source": [
    "cluster.shutdown()"
   ]
  }
 ],
 "metadata": {
  "kernelspec": {
   "display_name": "Python 3 (ipykernel)",
   "language": "python",
   "name": "python3"
  },
  "language_info": {
   "codemirror_mode": {
    "name": "ipython",
    "version": 3
   },
   "file_extension": ".py",
   "mimetype": "text/x-python",
   "name": "python",
   "nbconvert_exporter": "python",
   "pygments_lexer": "ipython3",
   "version": "3.9.2"
  }
 },
 "nbformat": 4,
 "nbformat_minor": 5
}
