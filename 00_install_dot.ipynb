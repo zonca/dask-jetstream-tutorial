{
 "cells": [
  {
   "cell_type": "code",
   "execution_count": null,
   "id": "137e98b2-00e4-4d48-93a9-35a7f7544a20",
   "metadata": {},
   "outputs": [],
   "source": [
    "import urllib.request\n",
    "\n",
    "url = \"https://github.com/restruct/dot-static/raw/master/x64/dot_static\"\n",
    "\n",
    "with urllib.request.urlopen(url) as response:\n",
    "    content = response.read()\n",
    "\n",
    "with open(\"/opt/conda/bin/dot\", \"wb\") as f:\n",
    "    f.write(content)"
   ]
  },
  {
   "cell_type": "code",
   "execution_count": null,
   "id": "515c547c-8ca7-4864-989b-dfabfeaf3e94",
   "metadata": {},
   "outputs": [],
   "source": [
    "!chmod +x /opt/conda/bin/dot"
   ]
  },
  {
   "cell_type": "code",
   "execution_count": null,
   "id": "3c9ea584-9647-407c-86b3-dacc0fee3506",
   "metadata": {},
   "outputs": [],
   "source": [
    "!dot -v"
   ]
  }
 ],
 "metadata": {
  "kernelspec": {
   "display_name": "Python 3 (ipykernel)",
   "language": "python",
   "name": "python3"
  },
  "language_info": {
   "codemirror_mode": {
    "name": "ipython",
    "version": 3
   },
   "file_extension": ".py",
   "mimetype": "text/x-python",
   "name": "python",
   "nbconvert_exporter": "python",
   "pygments_lexer": "ipython3",
   "version": "3.9.2"
  }
 },
 "nbformat": 4,
 "nbformat_minor": 5
}
